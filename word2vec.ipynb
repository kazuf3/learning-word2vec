{
 "cells": [
  {
   "cell_type": "code",
   "execution_count": 8,
   "metadata": {
    "autoscroll": false,
    "ein.hycell": false,
    "ein.tags": "worksheet-0",
    "slideshow": {
     "slide_type": "-"
    }
   },
   "outputs": [],
   "source": [
    "#  Word2vec\n",
    "#  Skip-gram model (target:context=1:1 model, no negative sampling)\n",
    "#  \"he is a ...\"\n",
    "#     target: is\n",
    "#        => context:[he, a] (when window_size=2)\n",
    "\n",
    "import torch\n",
    "import torch.nn as nn\n",
    "import torch.nn.functional as F\n",
    "\n",
    "import numpy as np\n",
    "\n",
    "corpus = [\n",
    "    'he is a king',\n",
    "    'she is a queen',\n",
    "    'he is a man',\n",
    "    'she is a woman',\n",
    "    'warsaw is poland capital',\n",
    "    'berlin is germany capital',\n",
    "    'paris is france capital'\n",
    "]\n",
    "\n",
    "def tokenize_corpus(corpus):\n",
    "    tokens = [x.split() for x in corpus]\n",
    "    return tokens\n",
    "\n",
    "tokenized_corpus = tokenize_corpus(corpus)\n",
    "\n",
    "vocabulary = []\n",
    "for sentence in tokenized_corpus:\n",
    "    for word in sentence:\n",
    "        if word not in vocabulary:\n",
    "            vocabulary.append(word)\n",
    "vocabulary_size = len(vocabulary)\n",
    "word2id = {w: idx for (idx, w) in enumerate(vocabulary)}\n",
    "id2word = {idx:w for (idx, w) in enumerate(vocabulary)}\n",
    "\n"
   ]
  },
  {
   "cell_type": "code",
   "execution_count": 5,
   "metadata": {
    "autoscroll": false,
    "ein.hycell": false,
    "ein.tags": "worksheet-0",
    "slideshow": {
     "slide_type": "-"
    }
   },
   "outputs": [
    {
     "name": "stdout",
     "output_type": "stream",
     "text": [
      "(target,context) pairs:\n",
      "\n",
      "(he, is)\n",
      "(he, a)\n",
      "(is, he)\n",
      "(is, a)\n",
      "(is, king)\n",
      "(a, he)\n",
      "(a, is)\n",
      "(a, king)\n",
      "(king, is)\n",
      "(king, a)\n"
     ]
    }
   ],
   "source": [
    "window_size = 2\n",
    "\n",
    "# generate (target, (context1,context2)) word pairs\n",
    "idx_pairs = []\n",
    "for sentence in tokenized_corpus:\n",
    "    indices = [word2id[x] for x in sentence]\n",
    "    for target in range(0, len(indices)):\n",
    "        for w in range(-window_size, window_size+1):\n",
    "            if(target + w <0 or target + w >= len(indices) or w==0):\n",
    "                continue\n",
    "            pair = indices[target],indices[target+w]\n",
    "            idx_pairs.append(pair)\n",
    "\n",
    "np_idx_pairs = np.array(idx_pairs)\n",
    "\n",
    "print(\"(target,context) pairs:\\n\")\n",
    "for (x,y) in np_idx_pairs[:10,]:\n",
    "    print('(%s, %s)' % (id2word[x],id2word[y]))\n",
    "\n"
   ]
  },
  {
   "cell_type": "code",
   "execution_count": 6,
   "metadata": {
    "autoscroll": false,
    "ein.hycell": false,
    "ein.tags": "worksheet-0",
    "slideshow": {
     "slide_type": "-"
    }
   },
   "outputs": [],
   "source": [
    "def input_layer(word_idx):\n",
    "    x = torch.zeros(vocabulary_size).float()\n",
    "    x[word_idx] = 1\n",
    "    return x\n",
    "\n",
    "embedding_dims = 5\n",
    "W1 = torch.autograd.Variable(torch.randn(embedding_dims, vocabulary_size).float(), requires_grad=True)\n",
    "W2 = torch.autograd.Variable(torch.randn(vocabulary_size, embedding_dims).float(), requires_grad=True)\n",
    "\n"
   ]
  },
  {
   "cell_type": "code",
   "execution_count": 7,
   "metadata": {
    "autoscroll": false,
    "ein.hycell": false,
    "ein.tags": "worksheet-0",
    "slideshow": {
     "slide_type": "-"
    }
   },
   "outputs": [
    {
     "name": "stdout",
     "output_type": "stream",
     "text": [
      "Loss at epo 0: 5.229343138422284\n",
      "Loss at epo 10: 4.444653618335724\n",
      "Loss at epo 20: 3.9810801489012584\n",
      "Loss at epo 30: 3.6753370591572354\n",
      "Loss at epo 40: 3.4541127596582686\n",
      "Loss at epo 50: 3.286831678662981\n",
      "Loss at epo 60: 3.1577084388051713\n",
      "Loss at epo 70: 3.0568619574819293\n",
      "Loss at epo 80: 2.9771582092557636\n",
      "Loss at epo 90: 2.913068832669939\n",
      "Loss at epo 100: 2.860338951860155\n"
     ]
    }
   ],
   "source": [
    "num_epochs = 101\n",
    "learning_rate = 0.001\n",
    "\n",
    "for epo in range(num_epochs):\n",
    "    loss_val = 0\n",
    "    for data, target in idx_pairs:\n",
    "        x = torch.autograd.Variable(input_layer(data)).float()\n",
    "        y_true = torch.autograd.Variable(torch.from_numpy(np.array([target])).long())\n",
    "\n",
    "        z1 = torch.matmul(W1, x)\n",
    "        z2 = torch.matmul(W2, z1)\n",
    "\n",
    "        # raw log-softmax value\n",
    "        log_softmax = F.log_softmax(z2, dim=0)\n",
    "        loss = F.nll_loss(log_softmax.view(1, -1), y_true)\n",
    "        # loss value for printing\n",
    "        loss_val += loss.item()\n",
    "        loss.backward()\n",
    "        W1.data -= learning_rate * W1.grad.data\n",
    "        W2.data -= learning_rate * W2.grad.data\n",
    "\n",
    "        W1.grad.data.zero_()\n",
    "        W2.grad.data.zero_()\n",
    "\n",
    "    if epo % 10 == 0:\n",
    "        print(f'Loss at epo {epo}: {loss_val/len(idx_pairs)}')\n"
   ]
  }
 ],
 "metadata": {
  "kernelspec": {
   "display_name": "Python 3",
   "language": "python",
   "name": "python3"
  },
  "language_info": {
   "codemirror_mode": {
    "name": "ipython",
    "version": 3
   },
   "file_extension": ".py",
   "mimetype": "text/x-python",
   "name": "python",
   "nbconvert_exporter": "python",
   "pygments_lexer": "ipython3",
   "version": "3.6.5"
  },
  "name": "word2vec.ipynb"
 },
 "nbformat": 4,
 "nbformat_minor": 2
}
